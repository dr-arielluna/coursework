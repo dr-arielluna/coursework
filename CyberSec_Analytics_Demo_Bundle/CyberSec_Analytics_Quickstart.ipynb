{
 "cells": [
  {
   "cell_type": "markdown",
   "id": "5dcee5da",
   "metadata": {},
   "source": [
    "# Quick Cybersecurity Analytics (Colab Demo)\n",
    "\n",
    "This mini-notebook shows how to load simple web/auth logs with **pandas**, perform quick anomaly checks (e.g., **brute-force logins**, **404 scans**), and visualize suspicious activity. Use it as a 10–15 minute teaching demo.\n",
    "\n",
    "**Instructions**\n",
    "1. Upload `security_logs_demo.csv` (or place this notebook and CSV in the same directory).\n",
    "2. Run cells top-to-bottom.\n"
   ]
  },
  {
   "cell_type": "code",
   "execution_count": null,
   "id": "3dbff429",
   "metadata": {},
   "outputs": [],
   "source": [
    "import pandas as pd\n",
    "import numpy as np\n",
    "import matplotlib.pyplot as plt\n",
    "print('Libraries imported.')"
   ]
  },
  {
   "cell_type": "markdown",
   "id": "b654a9ce",
   "metadata": {},
   "source": [
    "## Load the CSV"
   ]
  },
  {
   "cell_type": "code",
   "execution_count": null,
   "id": "4e43753f",
   "metadata": {},
   "outputs": [],
   "source": [
    "try:\n",
    "    df = pd.read_csv('security_logs_demo.csv')\n",
    "except FileNotFoundError:\n",
    "    print('Could not find security_logs_demo.csv. Upload it or adjust the path.')\n",
    "\n",
    "df['timestamp'] = pd.to_datetime(df['timestamp'])\n",
    "df = df.sort_values('timestamp')\n",
    "df.head()"
   ]
  },
  {
   "cell_type": "markdown",
   "id": "413d7aca",
   "metadata": {},
   "source": [
    "## Quick EDA"
   ]
  },
  {
   "cell_type": "code",
   "execution_count": null,
   "id": "874cf39f",
   "metadata": {},
   "outputs": [],
   "source": [
    "print('Rows:', len(df))\n",
    "print('Time range:', df['timestamp'].min(), 'to', df['timestamp'].max())\n",
    "print('\\nStatus counts:\\n', df['status'].value_counts().sort_index())\n",
    "df['src_ip'].value_counts().head(10)"
   ]
  },
  {
   "cell_type": "markdown",
   "id": "f27cdaea",
   "metadata": {},
   "source": [
    "## Rule 1: Failed-login burst (possible brute force)"
   ]
  },
  {
   "cell_type": "code",
   "execution_count": null,
   "id": "61335d41",
   "metadata": {},
   "outputs": [],
   "source": [
    "fail = df[(df['endpoint']=='/login') & (df['status']==401)].copy()\n",
    "fail = fail.set_index('timestamp').sort_index()\n",
    "\n",
    "WINDOW_MIN = 3\n",
    "THRESH = 10\n",
    "suspects = []\n",
    "for ip, g in fail.groupby('src_ip'):\n",
    "    times = g.index.to_series().sort_values()\n",
    "    for i in range(len(times)):\n",
    "        start_t = times.iloc[i]\n",
    "        end_t = start_t + pd.Timedelta(minutes=WINDOW_MIN)\n",
    "        count = times[(times>=start_t) & (times<=end_t)].shape[0]\n",
    "        if count >= THRESH:\n",
    "            suspects.append({'src_ip': ip, 'start': start_t, 'end': end_t, 'fail_count': count})\n",
    "suspects_df = pd.DataFrame(suspects).drop_duplicates(subset=['src_ip','start','end'])\n",
    "suspects_df.head()"
   ]
  },
  {
   "cell_type": "markdown",
   "id": "d4a5532e",
   "metadata": {},
   "source": [
    "## Rule 2: 404 scanning activity"
   ]
  },
  {
   "cell_type": "code",
   "execution_count": null,
   "id": "2890ccb0",
   "metadata": {},
   "outputs": [],
   "source": [
    "scan = df[df['status']==404].copy()\n",
    "WINDOW_MIN = 5\n",
    "THRESH = 8\n",
    "hits = []\n",
    "for ip, g in scan.groupby('src_ip'):\n",
    "    g = g.set_index('timestamp').sort_index()\n",
    "    times = g.index.to_series()\n",
    "    for i in range(len(times)):\n",
    "        start = times.iloc[i]\n",
    "        end = start + pd.Timedelta(minutes=WINDOW_MIN)\n",
    "        sub = g[(g.index>=start) & (g.index<=end)]\n",
    "        if sub['endpoint'].nunique() >= THRESH:\n",
    "            hits.append({'src_ip': ip, 'start': start, 'end': end, 'unique_404_endpoints': sub['endpoint'].nunique()})\n",
    "hits_df = pd.DataFrame(hits).drop_duplicates(subset=['src_ip','start','end'])\n",
    "hits_df.head()"
   ]
  },
  {
   "cell_type": "markdown",
   "id": "45e98677",
   "metadata": {},
   "source": [
    "## Rule 3: Suspicious user agents"
   ]
  },
  {
   "cell_type": "code",
   "execution_count": null,
   "id": "c45bf356",
   "metadata": {},
   "outputs": [],
   "source": [
    "suspicious_strings = ['sqlmap', 'curl', 'python-requests']\n",
    "ua_flag = df[df['user_agent'].str.contains('|'.join(suspicious_strings), case=False, na=False)]\n",
    "ua_flag[['timestamp','src_ip','endpoint','status','user_agent']].head(20)"
   ]
  },
  {
   "cell_type": "markdown",
   "id": "aa219e90",
   "metadata": {},
   "source": [
    "## Visualizations"
   ]
  },
  {
   "cell_type": "code",
   "execution_count": null,
   "id": "be61c782",
   "metadata": {},
   "outputs": [],
   "source": [
    "ip_counts = df['src_ip'].value_counts().head(10)\n",
    "plt.figure()\n",
    "ip_counts.plot(kind='bar')\n",
    "plt.title('Top Source IPs (by event count)')\n",
    "plt.xlabel('Source IP')\n",
    "plt.ylabel('Events')\n",
    "plt.tight_layout()\n",
    "plt.show()\n",
    "\n",
    "df['minute'] = df['timestamp'].dt.floor('min')\n",
    "ts = df.groupby(['minute','status']).size().unstack(fill_value=0)\n",
    "plt.figure()\n",
    "ts.plot()\n",
    "plt.title('Events per minute by status')\n",
    "plt.xlabel('Time')\n",
    "plt.ylabel('Count')\n",
    "plt.tight_layout()\n",
    "plt.show()"
   ]
  },
  {
   "cell_type": "markdown",
   "id": "c4e0588e",
   "metadata": {},
   "source": [
    "## Summary"
   ]
  },
  {
   "cell_type": "code",
   "execution_count": null,
   "id": "f8a40445",
   "metadata": {},
   "outputs": [],
   "source": [
    "summary = {\n",
    "    'total_events': int(len(df)),\n",
    "    'unique_ips': int(df['src_ip'].nunique()),\n",
    "    'failed_logins': int(((df['endpoint']=='/login') & (df['status']==401)).sum()),\n",
    "    'not_found_events': int((df['status']==404).sum()),\n",
    "}\n",
    "summary"
   ]
  }
 ],
 "metadata": {},
 "nbformat": 4,
 "nbformat_minor": 5
}
